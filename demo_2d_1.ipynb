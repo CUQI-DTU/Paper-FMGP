{
 "cells": [
  {
   "cell_type": "code",
   "execution_count": null,
   "metadata": {},
   "outputs": [],
   "source": [
    "# read command line arguments\n",
    "import os\n",
    "import argparse\n",
    "parser = argparse.ArgumentParser(description='Experiment')\n",
    "parser.add_argument('--ns', type=int, default=4, help='number of virtual points')\n",
    "\n",
    "args = parser.parse_args(os.environ['NB_ARGS'].split())\n",
    "# args = parser.parse_args(\"\")\n",
    "ns = args.ns\n",
    "print(\"ns = \", ns)"
   ]
  },
  {
   "cell_type": "code",
   "execution_count": null,
   "metadata": {},
   "outputs": [],
   "source": [
    "import cpuinfo"
   ]
  },
  {
   "cell_type": "code",
   "execution_count": null,
   "metadata": {},
   "outputs": [],
   "source": [
    "from jax import config\n",
    "import jax.numpy as jnp\n",
    "import jax.random as jr\n",
    "import optax as ox\n",
    "from jaxtyping import install_import_hook\n",
    "import matplotlib as mpl\n",
    "import matplotlib.pyplot as plt\n",
    "from scipy.stats import qmc\n",
    "from numpy.random import Generator, PCG64\n",
    "\n",
    "import numpy as np\n",
    "import torch\n",
    "import scipy\n",
    "import copy\n",
    "import timeit\n",
    "import os\n",
    "\n",
    "from constrained_gp import *\n",
    "\n",
    "config.update(\"jax_enable_x64\", True)\n",
    "\n",
    "with install_import_hook(\"gpjax\", \"beartype.beartype\"):\n",
    "    import gpjax as gpx\n",
    "\n",
    "key = jr.key(123)\n",
    "\n",
    "cols = mpl.rcParams[\"axes.prop_cycle\"].by_key()[\"color\"]\n",
    "\n",
    "print_title = False\n",
    "save_fig = True\n",
    "save_samples = True\n",
    "file_name = \"2d_1_\"+str(ns)\n",
    "# create dir file_name \n",
    "if not os.path.exists(file_name):\n",
    "    os.makedirs(file_name)\n",
    "info_strings = []\n",
    "fig_size = (1.5, 1.5)"
   ]
  },
  {
   "cell_type": "code",
   "execution_count": null,
   "metadata": {},
   "outputs": [],
   "source": [
    "# %% create and plot data\n",
    "n = 16# number of measurements\n",
    "d = 2\n",
    "noise = 1e-3\n",
    "\n",
    "key, subkey = jr.split(key)\n",
    "\n",
    "xlim = (-5, 5)\n",
    "ylim = (-5, 5)\n",
    "\n",
    "# x = jr.uniform(key=key, minval=-5, maxval=5, shape=(2*n,)).reshape(-1, 2)\n",
    "rng = Generator(PCG64(1)) #5\n",
    "lh_sampler = qmc.LatinHypercube(d=d, rng=rng)\n",
    "t = xlim[0] + lh_sampler.random(n=n)*(xlim[1]-xlim[0])\n",
    "# t1 = lh_sampler.random(n=int(0.5*n))*2-5\n",
    "# t2 = lh_sampler.random(n=int(0.5*n))*2+3\n",
    "# t = jnp.vstack([t1, t2])\n",
    "t = jnp.array(t)\n",
    "\n",
    "# t = jnp.array([[-4.8], [-4.0], [0.0], [2.0]])\n",
    "\n",
    "t_dim = len(t)\n",
    "\n",
    "# ground truth function\n",
    "def f(t):\n",
    "    # return 4/(1+jnp.exp(-t/2+4))\n",
    "    # return (t[:,1])*(t[:,1]) #jnp.exp(0.01*(t[:,0]))*(t[:,1])*(t[:,1])\n",
    "    return jnp.sin(t[:,1])\n",
    "\n",
    "f0t = f(t)\n",
    "f0t = f0t + jr.normal(subkey, shape=f0t.shape) * noise\n",
    "f0t = f0t.reshape(-1, 1)  # Reshape y to be (N, 1) instead of (N,)\n",
    "\n",
    "xx = jnp.linspace(xlim[0], xlim[1], 50)\n",
    "yy = jnp.linspace(ylim[0], ylim[1], 50)\n",
    "xv, yv = jnp.meshgrid(xx, yy)\n",
    "xv = xv.reshape(-1,1)\n",
    "yv = yv.reshape(-1,1)\n",
    "u = jnp.hstack([xv, yv])\n",
    "\n",
    "f0u_exact = f(u)\n",
    "vmin = f0u_exact.min()\n",
    "vmax = f0u_exact.max()\n",
    "\n",
    "fig, ax = plot_2d_function_with_points(xx, yy, f0u_exact.reshape(50, 50), pts=t, figsize=fig_size)\n",
    "if save_fig:\n",
    "    plt.savefig(file_name + \"/groundtruth.pdf\", bbox_inches=\"tight\")"
   ]
  },
  {
   "cell_type": "markdown",
   "metadata": {},
   "source": [
    "## Build unconstrained GP model"
   ]
  },
  {
   "cell_type": "code",
   "execution_count": null,
   "metadata": {},
   "outputs": [],
   "source": [
    "# data\n",
    "D = gpx.Dataset(X=t, y=f0t)\n",
    "# prior\n",
    "kernel = gpx.kernels.RBF(lengthscale=1.0, variance=1.0)#1.3\n",
    "meanf = gpx.mean_functions.Constant(0.0)\n",
    "prior = gpx.gps.Prior(mean_function=meanf, kernel=kernel)\n",
    "\n",
    "# posterior\n",
    "likelihood = gpx.likelihoods.Gaussian(num_datapoints=D.n, obs_stddev=noise) #1e-3\n",
    "posterior = prior * likelihood\n",
    "\n",
    "opt_posterior, history = gpx.fit(\n",
    "    model=posterior,\n",
    "    objective=lambda p, d: -gpx.objectives.conjugate_mll(p, d),\n",
    "    optim=ox.sgd(0.01),\n",
    "    train_data=D,\n",
    "    num_iters=20000\n",
    ")\n",
    "\n",
    "print(\"optimized lengthscale:\", opt_posterior.prior.kernel.lengthscale.value)\n",
    "print(\"optimized variance:\", opt_posterior.prior.kernel.variance.value)\n",
    "print(\"optimized mean:\", opt_posterior.prior.mean_function.constant.value)\n",
    "print(\"optimized noise std:\", opt_posterior.likelihood.obs_stddev.value)\n",
    "\n",
    "# shorter names for optimized parameters\n",
    "l = opt_posterior.prior.kernel.lengthscale.value\n",
    "sigma = jnp.sqrt(opt_posterior.prior.kernel.variance.value)\n",
    "sigma_square = opt_posterior.prior.kernel.variance.value\n",
    "fun_noise_var = opt_posterior.likelihood.obs_stddev.value**2\n",
    "fun_noise_matrix = jnp.eye(len(t)) * fun_noise_var\n",
    "fun_noise_matrix = np.asarray(fun_noise_matrix)"
   ]
  },
  {
   "cell_type": "code",
   "execution_count": null,
   "metadata": {},
   "outputs": [],
   "source": [
    "unconstrained_gp = opt_posterior.predict(u, train_data=D)\n",
    "\n",
    "fig, ax = plot_2d_function_with_points(xx, yy, unconstrained_gp.mean.reshape(50, 50), pts=t, vmin=vmin, vmax=vmax, figsize=fig_size)\n",
    "if save_fig:\n",
    "    plt.savefig(file_name + \"/unconstrained_mean.pdf\", bbox_inches=\"tight\")\n",
    "\n",
    "std_colorbar_min = 4*unconstrained_gp.stddev().min()\n",
    "std_colorbar_max = 4*unconstrained_gp.stddev().max()\n",
    "\n",
    "fig, ax = plot_2d_function_with_points(xx, yy, 4*unconstrained_gp.stddev().reshape(50, 50), pts=t, vmin=std_colorbar_min, vmax=std_colorbar_max, figsize=fig_size)\n",
    "info_string = \"%.2e %.2e\" % (mean_squared_error(f0u_exact, unconstrained_gp.mean), 4*unconstrained_gp.stddev().mean())\n",
    "info_strings.append(info_string)\n",
    "print(info_string)\n",
    "if print_title:\n",
    "    ax.set_title(info_string)\n",
    "if save_fig:\n",
    "    plt.savefig(file_name + \"/unconstrained_ci.pdf\", bbox_inches=\"tight\")"
   ]
  },
  {
   "cell_type": "markdown",
   "metadata": {},
   "source": [
    "## Virtual points"
   ]
  },
  {
   "cell_type": "code",
   "execution_count": null,
   "metadata": {},
   "outputs": [],
   "source": [
    "s_dim = ns\n",
    "\n",
    "# # LHC\n",
    "# s_dim = 4\n",
    "# rng = Generator(PCG64(2025))\n",
    "# lh_sampler = qmc.LatinHypercube(d=d, rng=rng)\n",
    "# s = xlim[0] + lh_sampler.random(n=s_dim)*(xlim[1]-xlim[0])\n",
    "# # sort s\n",
    "# # s = np.sort(s, axis=0)\n",
    "# s = jnp.array(s)\n",
    "# # s = jnp.array([-2.5, 2.5]).reshape(-1, 1)\n",
    "\n",
    "# Sobol\n",
    "sobol_sampler = qmc.Sobol(d=2, scramble=True, seed=0)\n",
    "s = sobol_sampler.random_base2(m=int(np.log2(ns)))\n",
    "s[:,0] = xlim[0] + s[:,0]*(xlim[1]-xlim[0])\n",
    "s[:,1] = ylim[0] + s[:,1]*(ylim[1]-ylim[0])\n",
    "s = jnp.array(s)\n",
    "# s = jnp.array([-2.5, 2.5]).reshape(-1, 1)\n",
    "\n",
    "grad_noise_var = 5e-3\n",
    "grad_noise_matrix = jnp.eye(len(s)) * grad_noise_var\n",
    "grad_noise_matrix = np.asarray(grad_noise_matrix)"
   ]
  },
  {
   "cell_type": "code",
   "execution_count": null,
   "metadata": {},
   "outputs": [],
   "source": [
    "# fig, ax = plot_2d_function_with_points(pts=t, vpts=s, xlim=xlim, ylim=ylim, figsize=fig_size)\n",
    "fig, ax = plot_2d_function_with_points(xx, yy, f0u_exact.reshape(50, 50),pts=t, vpts=s, xlim=xlim, ylim=ylim, figsize=fig_size)\n",
    "# ax.set_title(\"Ground truth\")\n",
    "if save_fig:\n",
    "    plt.savefig(file_name + \"/virtual_points.pdf\", bbox_inches=\"tight\")"
   ]
  },
  {
   "cell_type": "markdown",
   "metadata": {},
   "source": [
    "## Prepare matrices"
   ]
  },
  {
   "cell_type": "code",
   "execution_count": null,
   "metadata": {},
   "outputs": [],
   "source": [
    "kernel_xy = RBF(lengthscale=l, variance=sigma_square)\n",
    "kernel_dx1y = RBFDX1Y(lengthscale=l, variance=sigma_square)\n",
    "kernel_xdy1 = RBFXDY1(lengthscale=l, variance=sigma_square)\n",
    "kernel_dx1dy1 = RBFDX1DY1(lengthscale=l, variance=sigma_square)\n",
    "\n",
    "K00tt = kernel_xy.gram(t).to_dense()\n",
    "K10st = kernel_dx1y.cross_covariance(s, t)\n",
    "K01ts = kernel_xdy1.cross_covariance(t, s)\n",
    "K11ss = kernel_dx1dy1.gram(s).to_dense()\n",
    "f0t_prior_mean = opt_posterior.prior.mean_function(t)\n",
    "f1s_prior_mean = jnp.zeros(s_dim)\n",
    "f0u_prior_mean = opt_posterior.prior.mean_function(u).flatten()\n",
    "\n",
    "K00tt = np.asarray(K00tt)\n",
    "K10st = np.asarray(K10st)\n",
    "K01ts = np.asarray(K01ts)\n",
    "K11ss = np.asarray(K11ss)\n",
    "\n",
    "K00tu = np.asarray(kernel_xy.cross_covariance(t, u))\n",
    "K10su = np.asarray(kernel_dx1y.cross_covariance(s, u))\n",
    "K00uu = np.asarray(kernel_xy.gram(u).to_dense())"
   ]
  },
  {
   "cell_type": "code",
   "execution_count": null,
   "metadata": {},
   "outputs": [],
   "source": [
    "no_of_warmups = 1000\n",
    "no_of_samples = 50000"
   ]
  },
  {
   "cell_type": "markdown",
   "metadata": {},
   "source": [
    "## Truncated Gibbs"
   ]
  },
  {
   "cell_type": "code",
   "execution_count": null,
   "metadata": {},
   "outputs": [],
   "source": [
    "np.random.seed(0)\n",
    "start_time = timeit.default_timer()\n",
    "samples = gibbs_truncated_sample(K01ts, K11ss, K10st, K00tt, fun_noise_matrix, grad_noise_matrix, f0t_prior_mean, f1s_prior_mean, f0t, no_of_warmups, no_of_samples)\n",
    "end_time = timeit.default_timer()\n",
    "time_elapsed = end_time - start_time\n",
    "\n",
    "samples.plot_ci()\n",
    "if save_samples:\n",
    "    np.savez(file_name + \"/truncated_gibbs_samples.npz\", samples=samples.samples, ess=samples.compute_ess(), time=time_elapsed)"
   ]
  },
  {
   "cell_type": "code",
   "execution_count": null,
   "metadata": {},
   "outputs": [],
   "source": [
    "f0u_samples = draw_samples_with_derivative_enhanced_gp(K00tt, K01ts, K10st, K11ss, K00tu, K10su, K00uu, fun_noise_var, grad_noise_var, f0t_prior_mean, f1s_prior_mean, f0u_prior_mean, f0t, samples.samples)\n",
    "\n",
    "f0u_samples.geometry = cuqi.geometry.Image2D((50, 50))\n",
    "\n",
    "fig, ax = plot_2d_function_with_points(xx, yy, f0u_samples.mean().reshape(50, 50), pts=t, vpts=s, vmin=vmin, vmax=vmax, figsize=fig_size)\n",
    "if save_fig:\n",
    "    plt.savefig(file_name + \"/truncated_gibbs_mean.pdf\", bbox_inches=\"tight\")\n",
    "\n",
    "fig, ax = plot_2d_function_with_points(xx, yy, (f0u_samples.compute_ci()[1]-f0u_samples.compute_ci()[0]).reshape(50, 50), pts=t, vpts=s, vmin=std_colorbar_min, vmax=std_colorbar_max, figsize=fig_size)\n",
    "info_string = \"%.2e %.2e %.2e %.2e\" % (mean_squared_error(f0u_exact, f0u_samples.mean()), (f0u_samples.compute_ci()[1]-f0u_samples.compute_ci()[0]).mean(), no_of_samples/samples.compute_ess().min(), samples.compute_ess().min()/time_elapsed)\n",
    "info_strings.append(info_string)\n",
    "print(info_string)\n",
    "if print_title:\n",
    "    ax.set_title(info_string)\n",
    "if save_fig:\n",
    "    plt.savefig(file_name + \"/truncated_gibbs_ci.pdf\", bbox_inches=\"tight\")"
   ]
  },
  {
   "cell_type": "markdown",
   "metadata": {},
   "source": [
    "## Truncated NUTS"
   ]
  },
  {
   "cell_type": "code",
   "execution_count": null,
   "metadata": {},
   "outputs": [],
   "source": [
    "np.random.seed(0)\n",
    "torch.manual_seed(0)\n",
    "start_time = timeit.default_timer()\n",
    "original_samples, samples = nuts_truncated_sample_torch(K01ts, K11ss, K10st, K00tt, fun_noise_matrix, grad_noise_matrix, f0t_prior_mean, f0t, no_of_warmups, no_of_samples)\n",
    "end_time = timeit.default_timer()\n",
    "time_elapsed = end_time - start_time\n",
    "\n",
    "samples.plot_ci()\n",
    "\n",
    "if save_samples:\n",
    "    np.savez(file_name + \"/truncated_nuts_samples.npz\", samples=original_samples.samples, ess=original_samples.compute_ess(), time=time_elapsed)"
   ]
  },
  {
   "cell_type": "code",
   "execution_count": null,
   "metadata": {},
   "outputs": [],
   "source": [
    "f0u_samples = draw_samples_with_derivative_enhanced_gp(K00tt, K01ts, K10st, K11ss, K00tu, K10su, K00uu, fun_noise_var, grad_noise_var, f0t_prior_mean, f1s_prior_mean, f0u_prior_mean, f0t, samples.samples)\n",
    "\n",
    "f0u_samples.geometry = cuqi.geometry.Image2D((50, 50))\n",
    "\n",
    "fig, ax = plot_2d_function_with_points(xx, yy, f0u_samples.mean().reshape(50, 50), pts=t, vpts=s, vmin=vmin, vmax=vmax, figsize=fig_size)\n",
    "if save_fig:\n",
    "    plt.savefig(file_name + \"/truncated_nuts_mean.pdf\", bbox_inches=\"tight\")\n",
    "\n",
    "fig, ax = plot_2d_function_with_points(xx, yy, (f0u_samples.compute_ci()[1]-f0u_samples.compute_ci()[0]).reshape(50, 50), pts=t, vpts=s, vmin=std_colorbar_min, vmax=std_colorbar_max, figsize=fig_size)\n",
    "info_string = \"%.2e %.2e %.2e %.2e\" % (mean_squared_error(f0u_exact, f0u_samples.mean()), (f0u_samples.compute_ci()[1]-f0u_samples.compute_ci()[0]).mean(), no_of_samples/original_samples.compute_ess().min(), samples.compute_ess().min()/time_elapsed)\n",
    "info_strings.append(info_string)\n",
    "print(info_string)\n",
    "if print_title:\n",
    "    ax.set_title(info_string)\n",
    "if save_fig:\n",
    "    plt.savefig(file_name + \"/truncated_nuts_ci.pdf\", bbox_inches=\"tight\")"
   ]
  },
  {
   "cell_type": "markdown",
   "metadata": {},
   "source": [
    "## Nonlinear Gibbs"
   ]
  },
  {
   "cell_type": "code",
   "execution_count": null,
   "metadata": {},
   "outputs": [],
   "source": [
    "np.random.seed(0)\n",
    "start_time = timeit.default_timer()\n",
    "original_samples, samples = gibbs_nonlinear_sample(K01ts, K11ss, K10st, K00tt, fun_noise_matrix, grad_noise_matrix, f0t_prior_mean, f1s_prior_mean, f0t, no_of_warmups, no_of_samples)\n",
    "end_time = timeit.default_timer()\n",
    "time_elapsed = end_time - start_time\n",
    "\n",
    "samples.plot_ci()\n",
    "\n",
    "if save_samples:\n",
    "    np.savez(file_name + \"/nonlinear_gibbs_samples.npz\", samples=original_samples.samples, ess=original_samples.compute_ess(), time=time_elapsed)"
   ]
  },
  {
   "cell_type": "code",
   "execution_count": null,
   "metadata": {},
   "outputs": [],
   "source": [
    "f0u_samples = draw_samples_with_derivative_enhanced_gp(K00tt, K01ts, K10st, K11ss, K00tu, K10su, K00uu, fun_noise_var, grad_noise_var, f0t_prior_mean, f1s_prior_mean, f0u_prior_mean, f0t, samples.samples)\n",
    "\n",
    "f0u_samples.geometry = cuqi.geometry.Image2D((50, 50))\n",
    "\n",
    "fig, ax = plot_2d_function_with_points(xx, yy, f0u_samples.mean().reshape(50, 50), pts=t, vpts=s, vmin=vmin, vmax=vmax, figsize=fig_size)\n",
    "if save_fig:\n",
    "    plt.savefig(file_name + \"/nonlinear_gibbs_mean.pdf\", bbox_inches=\"tight\")\n",
    "\n",
    "fig, ax = plot_2d_function_with_points(xx, yy, (f0u_samples.compute_ci()[1]-f0u_samples.compute_ci()[0]).reshape(50, 50), pts=t, vpts=s, vmin=std_colorbar_min, vmax=std_colorbar_max, figsize=fig_size)\n",
    "info_string = \"%.2e %.2e %.2e %.2e\" % (mean_squared_error(f0u_exact, f0u_samples.mean()), (f0u_samples.compute_ci()[1]-f0u_samples.compute_ci()[0]).mean(), no_of_samples/original_samples.compute_ess().min(), samples.compute_ess().min()/time_elapsed)\n",
    "info_strings.append(info_string)\n",
    "print(info_string)\n",
    "if print_title:\n",
    "    ax.set_title(info_string)\n",
    "if save_fig:\n",
    "    plt.savefig(file_name + \"/nonlinear_gibbs_ci.pdf\", bbox_inches=\"tight\")"
   ]
  },
  {
   "cell_type": "markdown",
   "metadata": {},
   "source": [
    "## Nonlinear NUTS"
   ]
  },
  {
   "cell_type": "code",
   "execution_count": null,
   "metadata": {},
   "outputs": [],
   "source": [
    "np.random.seed(0)\n",
    "torch.manual_seed(0)\n",
    "start_time = timeit.default_timer()\n",
    "original_samples, samples = nuts_nonlinear_sample_torch(K01ts, K11ss, K10st, K00tt, fun_noise_matrix, grad_noise_matrix, f0t_prior_mean, f0t, no_of_warmups, no_of_samples)\n",
    "end_time = timeit.default_timer()\n",
    "time_elapsed = end_time - start_time\n",
    "\n",
    "samples.plot_ci()\n",
    "\n",
    "if save_samples:\n",
    "    np.savez(file_name + \"/nonlinear_nuts_samples.npz\", samples=original_samples.samples, ess=original_samples.compute_ess(), time=time_elapsed)"
   ]
  },
  {
   "cell_type": "code",
   "execution_count": null,
   "metadata": {},
   "outputs": [],
   "source": [
    "f0u_samples = draw_samples_with_derivative_enhanced_gp(K00tt, K01ts, K10st, K11ss, K00tu, K10su, K00uu, fun_noise_var, grad_noise_var, f0t_prior_mean, f1s_prior_mean, f0u_prior_mean, f0t, samples.samples)\n",
    "\n",
    "f0u_samples.geometry = cuqi.geometry.Image2D((50, 50))\n",
    "\n",
    "fig, ax = plot_2d_function_with_points(xx, yy, f0u_samples.mean().reshape(50, 50), pts=t, vpts=s, vmin=vmin, vmax=vmax, figsize=fig_size)\n",
    "if save_fig:\n",
    "    plt.savefig(file_name + \"/nonlinear_nuts_mean.pdf\", bbox_inches=\"tight\")\n",
    "\n",
    "fig, ax = plot_2d_function_with_points(xx, yy, (f0u_samples.compute_ci()[1]-f0u_samples.compute_ci()[0]).reshape(50, 50), pts=t, vpts=s, vmin=std_colorbar_min, vmax=std_colorbar_max, figsize=fig_size)\n",
    "info_string = \"%.2e %.2e %.2e %.2e\" % (mean_squared_error(f0u_exact, f0u_samples.mean()), (f0u_samples.compute_ci()[1]-f0u_samples.compute_ci()[0]).mean(), no_of_samples/original_samples.compute_ess().min(), samples.compute_ess().min()/time_elapsed)\n",
    "info_strings.append(info_string)\n",
    "print(info_string)\n",
    "if print_title:\n",
    "    ax.set_title(info_string)\n",
    "if save_fig:\n",
    "    plt.savefig(file_name + \"/nonlinear_nuts_ci.pdf\", bbox_inches=\"tight\")"
   ]
  },
  {
   "cell_type": "markdown",
   "metadata": {},
   "source": [
    "## RTO"
   ]
  },
  {
   "cell_type": "code",
   "execution_count": null,
   "metadata": {},
   "outputs": [],
   "source": [
    "np.random.seed(0)\n",
    "start_time = timeit.default_timer()\n",
    "samples = rto_sample(K01ts, K11ss, K10st, K00tt, fun_noise_matrix, grad_noise_matrix, f0t_prior_mean, f0t, no_of_warmups, no_of_samples)\n",
    "end_time = timeit.default_timer()\n",
    "time_elapsed = end_time - start_time\n",
    "\n",
    "samples.plot_ci()\n",
    "\n",
    "if save_samples:\n",
    "    np.savez(file_name + \"/rto_samples.npz\", samples=samples.samples, ess=samples.compute_ess(), time=time_elapsed)"
   ]
  },
  {
   "cell_type": "code",
   "execution_count": null,
   "metadata": {},
   "outputs": [],
   "source": [
    "f0u_samples = draw_samples_with_derivative_enhanced_gp(K00tt, K01ts, K10st, K11ss, K00tu, K10su, K00uu, fun_noise_var, grad_noise_var, f0t_prior_mean, f1s_prior_mean, f0u_prior_mean, f0t, samples.samples)\n",
    "\n",
    "f0u_samples.geometry = cuqi.geometry.Image2D((50, 50))\n",
    "\n",
    "fig, ax = plot_2d_function_with_points(xx, yy, f0u_samples.mean().reshape(50, 50), pts=t, vpts=s, vmin=vmin, vmax=vmax, figsize=fig_size)\n",
    "if save_fig:\n",
    "    plt.savefig(file_name + \"/rto_mean.pdf\", bbox_inches=\"tight\")\n",
    "\n",
    "fig, ax = plot_2d_function_with_points(xx, yy, (f0u_samples.compute_ci()[1]-f0u_samples.compute_ci()[0]).reshape(50, 50), pts=t, vpts=s, vmin=std_colorbar_min, vmax=std_colorbar_max, figsize=fig_size)\n",
    "info_string = \"%.2e %.2e %.2e %.2e\" % (mean_squared_error(f0u_exact, f0u_samples.mean()), (f0u_samples.compute_ci()[1]-f0u_samples.compute_ci()[0]).mean(), no_of_samples/samples.compute_ess().min(), samples.compute_ess().min()/time_elapsed)\n",
    "info_strings.append(info_string)\n",
    "print(info_string)\n",
    "if print_title:\n",
    "    ax.set_title(info_string)\n",
    "if save_fig:\n",
    "    plt.savefig(file_name + \"/rto_ci.pdf\", bbox_inches=\"tight\")"
   ]
  },
  {
   "cell_type": "markdown",
   "metadata": {},
   "source": [
    "## Summary"
   ]
  },
  {
   "cell_type": "code",
   "execution_count": null,
   "metadata": {},
   "outputs": [],
   "source": [
    "for i in range(len(info_strings)):\n",
    "    print(info_strings[i])"
   ]
  },
  {
   "cell_type": "code",
   "execution_count": null,
   "metadata": {},
   "outputs": [],
   "source": [
    "# save info_strings to file\n",
    "with open(file_name + \"/info.txt\", \"w\") as f:\n",
    "    f.write(cpuinfo.get_cpu_info()[\"brand_raw\"] + \"\\n\")\n",
    "    f.write(\"# MSE CI IAC ESS/S\\n\")\n",
    "    for i in range(len(info_strings)):\n",
    "        f.write(info_strings[i] + \"\\n\")"
   ]
  }
 ],
 "metadata": {
  "kernelspec": {
   "display_name": "gpjax",
   "language": "python",
   "name": "python3"
  },
  "language_info": {
   "codemirror_mode": {
    "name": "ipython",
    "version": 3
   },
   "file_extension": ".py",
   "mimetype": "text/x-python",
   "name": "python",
   "nbconvert_exporter": "python",
   "pygments_lexer": "ipython3",
   "version": "3.12.0"
  }
 },
 "nbformat": 4,
 "nbformat_minor": 2
}
